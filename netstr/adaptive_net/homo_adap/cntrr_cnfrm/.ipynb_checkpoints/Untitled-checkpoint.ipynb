{
 "cells": [
  {
   "cell_type": "markdown",
   "metadata": {},
   "source": [
    "Multiple communities + core-periphery.\n",
    "We often find network where it gets hard to divide nodes into different groups. It is because there exists nodes that ar not strongly nor weakly connected to specific component. However, one sure thing is that those obscure nodes are __not__ leading nodes -- __they are not core.__ According to core-periphery structure, nodes in periphery does not have many edges as nodes in core, which imply they are not taking an important role in the network. Expanding this notion, when it comes to detecting communities in a network, we can\n",
    "1. obtain the nodes with high eigenvalues (these nodes are going to divide a network into certain number of cores)\n",
    "2. divide the network with the nodes obtained from 1.\n",
    "3. The memberships of the rest of nodes (i.e., nodes with obscure eigenvalues) do not need to be determined, as they are __peripheral__ -- not important to detect where they belong to.\n"
   ]
  },
  {
   "cell_type": "code",
   "execution_count": 3,
   "metadata": {
    "collapsed": false
   },
   "outputs": [],
   "source": [
    "import networkx as nx\n",
    "import community\n"
   ]
  }
 ],
 "metadata": {
  "kernelspec": {
   "display_name": "Python 2",
   "language": "python",
   "name": "python2"
  },
  "language_info": {
   "codemirror_mode": {
    "name": "ipython",
    "version": 2
   },
   "file_extension": ".py",
   "mimetype": "text/x-python",
   "name": "python",
   "nbconvert_exporter": "python",
   "pygments_lexer": "ipython2",
   "version": "2.7.11"
  }
 },
 "nbformat": 4,
 "nbformat_minor": 0
}
