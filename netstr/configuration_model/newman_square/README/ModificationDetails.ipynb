{
 "cells": [
  {
   "cell_type": "markdown",
   "metadata": {},
   "source": [
    "# Modification Details"
   ]
  },
  {
   "cell_type": "markdown",
   "metadata": {},
   "source": [
    "03/04/2016:\n",
    "\n",
    "## before"
   ]
  },
  {
   "cell_type": "code",
   "execution_count": null,
   "metadata": {
    "collapsed": true
   },
   "outputs": [],
   "source": [
    "number_of_iteration = single_edge_degree_of_selected_node/3\n",
    "for iteration in range(number_of_iteration):\n",
    "    if square_proportion > rd.random():\n",
    "        #~ print 'wow'\n",
    "        square_degree += 1\n",
    "        single_edge_degree_of_selected_node -= 3"
   ]
  },
  {
   "cell_type": "markdown",
   "metadata": {},
   "source": [
    "Above code is wrong: It should be 2, not 3, because two of a node's edges are used to create a square; __a node in a square has two edges in the square.__"
   ]
  },
  {
   "cell_type": "markdown",
   "metadata": {},
   "source": [
    "## after"
   ]
  },
  {
   "cell_type": "code",
   "execution_count": null,
   "metadata": {
    "collapsed": true
   },
   "outputs": [],
   "source": [
    "number_of_iteration = single_edge_degree_of_selected_node/2 # Not 3 but 2, because two of a node's edges are used to create a square; a node in a square has two edges in the square.\n",
    "for iteration in range(number_of_iteration):\n",
    "    if square_proportion > rd.random():\n",
    "        #~ print 'wow'\n",
    "        square_degree += 1\n",
    "        single_edge_degree_of_selected_node -= 2"
   ]
  }
 ],
 "metadata": {
  "kernelspec": {
   "display_name": "Python 2",
   "language": "python",
   "name": "python2"
  },
  "language_info": {
   "codemirror_mode": {
    "name": "ipython",
    "version": 2
   },
   "file_extension": ".py",
   "mimetype": "text/x-python",
   "name": "python",
   "nbconvert_exporter": "python",
   "pygments_lexer": "ipython2",
   "version": "2.7.11"
  }
 },
 "nbformat": 4,
 "nbformat_minor": 0
}
